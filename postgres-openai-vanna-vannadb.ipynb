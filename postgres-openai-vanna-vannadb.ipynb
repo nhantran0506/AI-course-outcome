{
  "cells": [
    {
      "id": "f11f462f-f113-5e6d-9114-eef13db9d21a",
      "cell_type": "markdown",
      "metadata": {
        "id": "f11f462f-f113-5e6d-9114-eef13db9d21a"
      },
      "source": [
        "# Generating SQL for Postgres using OpenAI via Vanna.AI (Recommended), Vanna Hosted Vector DB (Recommended)\n",
        "This notebook runs through the process of using the `vanna` Python package to generate SQL using AI (RAG + LLMs) including connecting to a database and training. If you're not ready to train on your own database, you can still try it using a sample [SQLite database](app.md)."
      ]
    },
    {
      "id": "09d8642a-86ae-548a-9d57-25a1e7c1d144",
      "cell_type": "markdown",
      "metadata": {
        "id": "09d8642a-86ae-548a-9d57-25a1e7c1d144"
      },
      "source": [
        "\n",
        "<h3 class=\"mb-5 text-lg font-medium text-gray-900 dark:text-white\">Which LLM do you want to use?</h3>\n",
        "<ul class=\"grid w-full gap-6 md:grid-cols-2\">\n",
        "    \n",
        "  <li>\n",
        "    <span class=\"inline-flex w-full cursor-pointer items-center justify-between rounded-lg border bg-white p-5 border-blue-600 text-blue-600 dark:bg-gray-800 dark:text-blue-500\">\n",
        "      <div class=\"block\">\n",
        "        <div class=\"w-full text-lg font-semibold\"><span class=\"hidden\">[Selected]</span> OpenAI via Vanna.AI (Recommended)</div>\n",
        "        <small class=\"w-full\">Use Vanna.AI for free to generate your queries</small>\n",
        "      </div>\n",
        "    </span>\n",
        "  </li>\n",
        "  \n",
        "  <li>\n",
        "    <a href=\"../postgres-openai-standard-vannadb/\" class=\"inline-flex w-full cursor-pointer items-center justify-between rounded-lg border border-gray-200 bg-white p-5 text-gray-500 hover:bg-gray-100 hover:text-gray-600 peer-checked:border-blue-600 peer-checked:text-blue-600 dark:border-gray-700 dark:bg-gray-800 dark:text-gray-400 dark:hover:bg-gray-700 dark:hover:text-gray-300 dark:peer-checked:text-blue-500\">\n",
        "      <div class=\"block\">\n",
        "        <div class=\"w-full text-lg font-semibold\">OpenAI</div>\n",
        "        <small class=\"w-full\">Use OpenAI with your own API key</small>\n",
        "      </div>\n",
        "    </a>\n",
        "  </li>\n",
        "    \n",
        "  <li>\n",
        "    <a href=\"../postgres-openai-azure-vannadb/\" class=\"inline-flex w-full cursor-pointer items-center justify-between rounded-lg border border-gray-200 bg-white p-5 text-gray-500 hover:bg-gray-100 hover:text-gray-600 peer-checked:border-blue-600 peer-checked:text-blue-600 dark:border-gray-700 dark:bg-gray-800 dark:text-gray-400 dark:hover:bg-gray-700 dark:hover:text-gray-300 dark:peer-checked:text-blue-500\">\n",
        "      <div class=\"block\">\n",
        "        <div class=\"w-full text-lg font-semibold\">Azure OpenAI</div>\n",
        "        <small class=\"w-full\">If you have OpenAI models deployed on Azure</small>\n",
        "      </div>\n",
        "    </a>\n",
        "  </li>\n",
        "    \n",
        "  <li>\n",
        "    <a href=\"../postgres-anthropic-vannadb/\" class=\"inline-flex w-full cursor-pointer items-center justify-between rounded-lg border border-gray-200 bg-white p-5 text-gray-500 hover:bg-gray-100 hover:text-gray-600 peer-checked:border-blue-600 peer-checked:text-blue-600 dark:border-gray-700 dark:bg-gray-800 dark:text-gray-400 dark:hover:bg-gray-700 dark:hover:text-gray-300 dark:peer-checked:text-blue-500\">\n",
        "      <div class=\"block\">\n",
        "        <div class=\"w-full text-lg font-semibold\">Anthropic</div>\n",
        "        <small class=\"w-full\">Use Anthropics Claude with your Anthropic API Key</small>\n",
        "      </div>\n",
        "    </a>\n",
        "  </li>\n",
        "    \n",
        "  <li>\n",
        "    <a href=\"../postgres-ollama-vannadb/\" class=\"inline-flex w-full cursor-pointer items-center justify-between rounded-lg border border-gray-200 bg-white p-5 text-gray-500 hover:bg-gray-100 hover:text-gray-600 peer-checked:border-blue-600 peer-checked:text-blue-600 dark:border-gray-700 dark:bg-gray-800 dark:text-gray-400 dark:hover:bg-gray-700 dark:hover:text-gray-300 dark:peer-checked:text-blue-500\">\n",
        "      <div class=\"block\">\n",
        "        <div class=\"w-full text-lg font-semibold\">Ollama</div>\n",
        "        <small class=\"w-full\">Use Ollama locally for free. Requires additional setup.</small>\n",
        "      </div>\n",
        "    </a>\n",
        "  </li>\n",
        "    \n",
        "  <li>\n",
        "    <a href=\"../postgres-gemini-vannadb/\" class=\"inline-flex w-full cursor-pointer items-center justify-between rounded-lg border border-gray-200 bg-white p-5 text-gray-500 hover:bg-gray-100 hover:text-gray-600 peer-checked:border-blue-600 peer-checked:text-blue-600 dark:border-gray-700 dark:bg-gray-800 dark:text-gray-400 dark:hover:bg-gray-700 dark:hover:text-gray-300 dark:peer-checked:text-blue-500\">\n",
        "      <div class=\"block\">\n",
        "        <div class=\"w-full text-lg font-semibold\">Google Gemini</div>\n",
        "        <small class=\"w-full\">Use Google Gemini with your Gemini or Vertex API Key</small>\n",
        "      </div>\n",
        "    </a>\n",
        "  </li>\n",
        "    \n",
        "  <li>\n",
        "    <a href=\"../postgres-mistral-vannadb/\" class=\"inline-flex w-full cursor-pointer items-center justify-between rounded-lg border border-gray-200 bg-white p-5 text-gray-500 hover:bg-gray-100 hover:text-gray-600 peer-checked:border-blue-600 peer-checked:text-blue-600 dark:border-gray-700 dark:bg-gray-800 dark:text-gray-400 dark:hover:bg-gray-700 dark:hover:text-gray-300 dark:peer-checked:text-blue-500\">\n",
        "      <div class=\"block\">\n",
        "        <div class=\"w-full text-lg font-semibold\">Mistral via Mistral API</div>\n",
        "        <small class=\"w-full\">If you have a Mistral API key</small>\n",
        "      </div>\n",
        "    </a>\n",
        "  </li>\n",
        "    \n",
        "  <li>\n",
        "    <a href=\"../postgres-other-llm-vannadb/\" class=\"inline-flex w-full cursor-pointer items-center justify-between rounded-lg border border-gray-200 bg-white p-5 text-gray-500 hover:bg-gray-100 hover:text-gray-600 peer-checked:border-blue-600 peer-checked:text-blue-600 dark:border-gray-700 dark:bg-gray-800 dark:text-gray-400 dark:hover:bg-gray-700 dark:hover:text-gray-300 dark:peer-checked:text-blue-500\">\n",
        "      <div class=\"block\">\n",
        "        <div class=\"w-full text-lg font-semibold\">Other LLM</div>\n",
        "        <small class=\"w-full\">If you have a different LLM model</small>\n",
        "      </div>\n",
        "    </a>\n",
        "  </li>\n",
        "    \n",
        "</ul>\n",
        "    "
      ]
    },
    {
      "id": "79121183-0f87-5578-914b-d46ba8da261e",
      "cell_type": "markdown",
      "metadata": {
        "id": "79121183-0f87-5578-914b-d46ba8da261e"
      },
      "source": [
        "\n",
        "<h3 class=\"mb-5 text-lg font-medium text-gray-900 dark:text-white\">Where do you want to store the 'training' data?</h3>\n",
        "<ul class=\"grid w-full gap-6 md:grid-cols-2\">\n",
        "    \n",
        "  <li>\n",
        "    <span class=\"inline-flex w-full cursor-pointer items-center justify-between rounded-lg border bg-white p-5 border-blue-600 text-blue-600 dark:bg-gray-800 dark:text-blue-500\">\n",
        "      <div class=\"block\">\n",
        "        <div class=\"w-full text-lg font-semibold\"><span class=\"hidden\">[Selected]</span> Vanna Hosted Vector DB (Recommended)</div>\n",
        "        <small class=\"w-full\">Use Vanna.AIs hosted vector database (pgvector) for free. This is usable across machines with no additional setup.</small>\n",
        "      </div>\n",
        "    </span>\n",
        "  </li>\n",
        "  \n",
        "  <li>\n",
        "    <a href=\"../postgres-openai-standard-chromadb/\" class=\"inline-flex w-full cursor-pointer items-center justify-between rounded-lg border border-gray-200 bg-white p-5 text-gray-500 hover:bg-gray-100 hover:text-gray-600 peer-checked:border-blue-600 peer-checked:text-blue-600 dark:border-gray-700 dark:bg-gray-800 dark:text-gray-400 dark:hover:bg-gray-700 dark:hover:text-gray-300 dark:peer-checked:text-blue-500\">\n",
        "      <div class=\"block\">\n",
        "        <div class=\"w-full text-lg font-semibold\">ChromaDB</div>\n",
        "        <small class=\"w-full\">Use ChromaDBs open-source vector database for free locally. No additional setup is necessary -- all database files will be created and stored locally.</small>\n",
        "      </div>\n",
        "    </a>\n",
        "  </li>\n",
        "    \n",
        "  <li>\n",
        "    <a href=\"../postgres-openai-standard-qdrant/\" class=\"inline-flex w-full cursor-pointer items-center justify-between rounded-lg border border-gray-200 bg-white p-5 text-gray-500 hover:bg-gray-100 hover:text-gray-600 peer-checked:border-blue-600 peer-checked:text-blue-600 dark:border-gray-700 dark:bg-gray-800 dark:text-gray-400 dark:hover:bg-gray-700 dark:hover:text-gray-300 dark:peer-checked:text-blue-500\">\n",
        "      <div class=\"block\">\n",
        "        <div class=\"w-full text-lg font-semibold\">Qdrant</div>\n",
        "        <small class=\"w-full\">Use Qdrants open-source vector database</small>\n",
        "      </div>\n",
        "    </a>\n",
        "  </li>\n",
        "    \n",
        "  <li>\n",
        "    <a href=\"../postgres-openai-standard-marqo/\" class=\"inline-flex w-full cursor-pointer items-center justify-between rounded-lg border border-gray-200 bg-white p-5 text-gray-500 hover:bg-gray-100 hover:text-gray-600 peer-checked:border-blue-600 peer-checked:text-blue-600 dark:border-gray-700 dark:bg-gray-800 dark:text-gray-400 dark:hover:bg-gray-700 dark:hover:text-gray-300 dark:peer-checked:text-blue-500\">\n",
        "      <div class=\"block\">\n",
        "        <div class=\"w-full text-lg font-semibold\">Marqo</div>\n",
        "        <small class=\"w-full\">Use Marqo locally for free. Requires additional setup. Or use their hosted option.</small>\n",
        "      </div>\n",
        "    </a>\n",
        "  </li>\n",
        "    \n",
        "  <li>\n",
        "    <a href=\"../postgres-openai-standard-other-vectordb/\" class=\"inline-flex w-full cursor-pointer items-center justify-between rounded-lg border border-gray-200 bg-white p-5 text-gray-500 hover:bg-gray-100 hover:text-gray-600 peer-checked:border-blue-600 peer-checked:text-blue-600 dark:border-gray-700 dark:bg-gray-800 dark:text-gray-400 dark:hover:bg-gray-700 dark:hover:text-gray-300 dark:peer-checked:text-blue-500\">\n",
        "      <div class=\"block\">\n",
        "        <div class=\"w-full text-lg font-semibold\">Other VectorDB</div>\n",
        "        <small class=\"w-full\">Use any other vector database. Requires additional setup.</small>\n",
        "      </div>\n",
        "    </a>\n",
        "  </li>\n",
        "    \n",
        "</ul>\n",
        "    "
      ]
    },
    {
      "id": "ee059407-58ac-50fa-843a-7b876328df13",
      "cell_type": "markdown",
      "metadata": {
        "id": "ee059407-58ac-50fa-843a-7b876328df13"
      },
      "source": [
        "## Setup"
      ]
    },
    {
      "id": "bdef8f4c-bd17-56af-8840-6452768ea0f3",
      "cell_type": "code",
      "execution_count": null,
      "metadata": {
        "id": "bdef8f4c-bd17-56af-8840-6452768ea0f3"
      },
      "outputs": [],
      "source": [
        "%pip install 'vanna[postgres]'"
      ]
    },
    {
      "id": "6160c274-caf4-537e-9a02-f6a1d7022a2c",
      "cell_type": "code",
      "execution_count": null,
      "metadata": {
        "id": "6160c274-caf4-537e-9a02-f6a1d7022a2c"
      },
      "outputs": [],
      "source": [
        "import vanna\n",
        "from vanna.remote import VannaDefault"
      ]
    },
    {
      "id": "7cd78528-b0b0-5428-901c-6b5dc2158ef9",
      "cell_type": "code",
      "execution_count": null,
      "metadata": {
        "id": "7cd78528-b0b0-5428-901c-6b5dc2158ef9"
      },
      "outputs": [],
      "source": [
        "api_key = \"vn-1bdb1a2cfba94520a1e789a520e3c88d\"\n",
        "\n",
        "vanna_model_name = # Your model name from https://vanna.ai/account/profile\n",
        "vn = VannaDefault(model=vanna_model_name, api_key=api_key)\n"
      ]
    },
    {
      "id": "b5ccaea6-72f3-5450-a9e4-89734b1f4054",
      "cell_type": "markdown",
      "metadata": {
        "id": "b5ccaea6-72f3-5450-a9e4-89734b1f4054"
      },
      "source": [
        "\n",
        "<h3 class=\"mb-5 text-lg font-medium text-gray-900 dark:text-white\">Which database do you want to query?</h3>\n",
        "<ul class=\"grid w-full gap-6 md:grid-cols-2\">\n",
        "    \n",
        "  <li>\n",
        "    <span class=\"inline-flex w-full cursor-pointer items-center justify-between rounded-lg border bg-white p-5 border-blue-600 text-blue-600 dark:bg-gray-800 dark:text-blue-500\">\n",
        "      <div class=\"block\">\n",
        "        <div class=\"w-full text-lg font-semibold\"><span class=\"hidden\">[Selected]</span> Postgres</div>\n",
        "        <small class=\"w-full\"></small>\n",
        "      </div>\n",
        "    </span>\n",
        "  </li>\n",
        "  \n",
        "  <li>\n",
        "    <a href=\"../mssql-openai-vanna-vannadb/\" class=\"inline-flex w-full cursor-pointer items-center justify-between rounded-lg border border-gray-200 bg-white p-5 text-gray-500 hover:bg-gray-100 hover:text-gray-600 peer-checked:border-blue-600 peer-checked:text-blue-600 dark:border-gray-700 dark:bg-gray-800 dark:text-gray-400 dark:hover:bg-gray-700 dark:hover:text-gray-300 dark:peer-checked:text-blue-500\">\n",
        "      <div class=\"block\">\n",
        "        <div class=\"w-full text-lg font-semibold\">Microsoft SQL Server</div>\n",
        "        <small class=\"w-full\"></small>\n",
        "      </div>\n",
        "    </a>\n",
        "  </li>\n",
        "    \n",
        "  <li>\n",
        "    <a href=\"../mysql-openai-vanna-vannadb/\" class=\"inline-flex w-full cursor-pointer items-center justify-between rounded-lg border border-gray-200 bg-white p-5 text-gray-500 hover:bg-gray-100 hover:text-gray-600 peer-checked:border-blue-600 peer-checked:text-blue-600 dark:border-gray-700 dark:bg-gray-800 dark:text-gray-400 dark:hover:bg-gray-700 dark:hover:text-gray-300 dark:peer-checked:text-blue-500\">\n",
        "      <div class=\"block\">\n",
        "        <div class=\"w-full text-lg font-semibold\">MySQL</div>\n",
        "        <small class=\"w-full\"></small>\n",
        "      </div>\n",
        "    </a>\n",
        "  </li>\n",
        "    \n",
        "  <li>\n",
        "    <a href=\"../duckdb-openai-vanna-vannadb/\" class=\"inline-flex w-full cursor-pointer items-center justify-between rounded-lg border border-gray-200 bg-white p-5 text-gray-500 hover:bg-gray-100 hover:text-gray-600 peer-checked:border-blue-600 peer-checked:text-blue-600 dark:border-gray-700 dark:bg-gray-800 dark:text-gray-400 dark:hover:bg-gray-700 dark:hover:text-gray-300 dark:peer-checked:text-blue-500\">\n",
        "      <div class=\"block\">\n",
        "        <div class=\"w-full text-lg font-semibold\">DuckDB</div>\n",
        "        <small class=\"w-full\"></small>\n",
        "      </div>\n",
        "    </a>\n",
        "  </li>\n",
        "    \n",
        "  <li>\n",
        "    <a href=\"../snowflake-openai-vanna-vannadb/\" class=\"inline-flex w-full cursor-pointer items-center justify-between rounded-lg border border-gray-200 bg-white p-5 text-gray-500 hover:bg-gray-100 hover:text-gray-600 peer-checked:border-blue-600 peer-checked:text-blue-600 dark:border-gray-700 dark:bg-gray-800 dark:text-gray-400 dark:hover:bg-gray-700 dark:hover:text-gray-300 dark:peer-checked:text-blue-500\">\n",
        "      <div class=\"block\">\n",
        "        <div class=\"w-full text-lg font-semibold\">Snowflake</div>\n",
        "        <small class=\"w-full\"></small>\n",
        "      </div>\n",
        "    </a>\n",
        "  </li>\n",
        "    \n",
        "  <li>\n",
        "    <a href=\"../bigquery-openai-vanna-vannadb/\" class=\"inline-flex w-full cursor-pointer items-center justify-between rounded-lg border border-gray-200 bg-white p-5 text-gray-500 hover:bg-gray-100 hover:text-gray-600 peer-checked:border-blue-600 peer-checked:text-blue-600 dark:border-gray-700 dark:bg-gray-800 dark:text-gray-400 dark:hover:bg-gray-700 dark:hover:text-gray-300 dark:peer-checked:text-blue-500\">\n",
        "      <div class=\"block\">\n",
        "        <div class=\"w-full text-lg font-semibold\">BigQuery</div>\n",
        "        <small class=\"w-full\"></small>\n",
        "      </div>\n",
        "    </a>\n",
        "  </li>\n",
        "    \n",
        "  <li>\n",
        "    <a href=\"../sqlite-openai-vanna-vannadb/\" class=\"inline-flex w-full cursor-pointer items-center justify-between rounded-lg border border-gray-200 bg-white p-5 text-gray-500 hover:bg-gray-100 hover:text-gray-600 peer-checked:border-blue-600 peer-checked:text-blue-600 dark:border-gray-700 dark:bg-gray-800 dark:text-gray-400 dark:hover:bg-gray-700 dark:hover:text-gray-300 dark:peer-checked:text-blue-500\">\n",
        "      <div class=\"block\">\n",
        "        <div class=\"w-full text-lg font-semibold\">SQLite</div>\n",
        "        <small class=\"w-full\"></small>\n",
        "      </div>\n",
        "    </a>\n",
        "  </li>\n",
        "    \n",
        "  <li>\n",
        "    <a href=\"../oracle-openai-vanna-vannadb/\" class=\"inline-flex w-full cursor-pointer items-center justify-between rounded-lg border border-gray-200 bg-white p-5 text-gray-500 hover:bg-gray-100 hover:text-gray-600 peer-checked:border-blue-600 peer-checked:text-blue-600 dark:border-gray-700 dark:bg-gray-800 dark:text-gray-400 dark:hover:bg-gray-700 dark:hover:text-gray-300 dark:peer-checked:text-blue-500\">\n",
        "      <div class=\"block\">\n",
        "        <div class=\"w-full text-lg font-semibold\">Oracle</div>\n",
        "        <small class=\"w-full\"></small>\n",
        "      </div>\n",
        "    </a>\n",
        "  </li>\n",
        "    \n",
        "  <li>\n",
        "    <a href=\"../other-database-openai-vanna-vannadb/\" class=\"inline-flex w-full cursor-pointer items-center justify-between rounded-lg border border-gray-200 bg-white p-5 text-gray-500 hover:bg-gray-100 hover:text-gray-600 peer-checked:border-blue-600 peer-checked:text-blue-600 dark:border-gray-700 dark:bg-gray-800 dark:text-gray-400 dark:hover:bg-gray-700 dark:hover:text-gray-300 dark:peer-checked:text-blue-500\">\n",
        "      <div class=\"block\">\n",
        "        <div class=\"w-full text-lg font-semibold\">Other Database</div>\n",
        "        <small class=\"w-full\">Use Vanna to generate queries for any SQL database</small>\n",
        "      </div>\n",
        "    </a>\n",
        "  </li>\n",
        "    \n",
        "</ul>\n",
        "    "
      ]
    },
    {
      "id": "38707ef4-8063-5170-873a-45e63c1928a7",
      "cell_type": "code",
      "execution_count": null,
      "metadata": {
        "id": "38707ef4-8063-5170-873a-45e63c1928a7"
      },
      "outputs": [],
      "source": [
        "vn.connect_to_postgres(host='my-host', dbname='my-dbname', user='my-user', password='my-password', port='my-port')"
      ]
    },
    {
      "id": "f06c0e89-83f7-5ad1-8f6e-a64cf5bd8e60",
      "cell_type": "markdown",
      "metadata": {
        "id": "f06c0e89-83f7-5ad1-8f6e-a64cf5bd8e60"
      },
      "source": [
        "## Training\n",
        "You only need to train once. Do not train again unless you want to add more training data."
      ]
    },
    {
      "id": "5d321d01-d66f-5c5e-a3f3-e2d3d4330344",
      "cell_type": "code",
      "execution_count": null,
      "metadata": {
        "id": "5d321d01-d66f-5c5e-a3f3-e2d3d4330344"
      },
      "outputs": [],
      "source": [
        "\n",
        "# The information schema query may need some tweaking depending on your database. This is a good starting point.\n",
        "df_information_schema = vn.run_sql(\"SELECT * FROM INFORMATION_SCHEMA.COLUMNS\")\n",
        "\n",
        "# This will break up the information schema into bite-sized chunks that can be referenced by the LLM\n",
        "plan = vn.get_training_plan_generic(df_information_schema)\n",
        "plan\n",
        "\n",
        "# If you like the plan, then uncomment this and run it to train\n",
        "# vn.train(plan=plan)\n",
        "\n"
      ]
    },
    {
      "id": "7c421f88-42ea-567c-8581-3dcac96c36a3",
      "cell_type": "code",
      "execution_count": null,
      "metadata": {
        "id": "7c421f88-42ea-567c-8581-3dcac96c36a3"
      },
      "outputs": [],
      "source": [
        "\n",
        "# The following are methods for adding training data. Make sure you modify the examples to match your database.\n",
        "\n",
        "# DDL statements are powerful because they specify table names, colume names, types, and potentially relationships\n",
        "vn.train(ddl=\"\"\"\n",
        "    CREATE TABLE IF NOT EXISTS my-table (\n",
        "        id INT PRIMARY KEY,\n",
        "        name VARCHAR(100),\n",
        "        age INT\n",
        "    )\n",
        "\"\"\")\n",
        "\n",
        "# Sometimes you may want to add documentation about your business terminology or definitions.\n",
        "vn.train(documentation=\"Our business defines OTIF score as the percentage of orders that are delivered on time and in full\")\n",
        "\n",
        "# You can also add SQL queries to your training data. This is useful if you have some queries already laying around. You can just copy and paste those from your editor to begin generating new SQL.\n",
        "vn.train(sql=\"SELECT * FROM my-table WHERE name = 'John Doe'\")\n"
      ]
    },
    {
      "id": "59fcb3b1-4434-583d-82be-ed8e9b04d699",
      "cell_type": "code",
      "execution_count": null,
      "metadata": {
        "id": "59fcb3b1-4434-583d-82be-ed8e9b04d699"
      },
      "outputs": [],
      "source": [
        "# At any time you can inspect what training data the package is able to reference\n",
        "training_data = vn.get_training_data()\n",
        "training_data"
      ]
    },
    {
      "id": "6cf17ab9-dc48-58af-8d75-4e5590a01c88",
      "cell_type": "code",
      "execution_count": null,
      "metadata": {
        "id": "6cf17ab9-dc48-58af-8d75-4e5590a01c88"
      },
      "outputs": [],
      "source": [
        "# You can remove training data if there's obsolete/incorrect information.\n",
        "vn.remove_training_data(id='1-ddl')\n"
      ]
    },
    {
      "id": "bf2fc121-a3ab-5a2e-95b0-383271e82d5f",
      "cell_type": "markdown",
      "metadata": {
        "id": "bf2fc121-a3ab-5a2e-95b0-383271e82d5f"
      },
      "source": [
        "## Asking the AI\n",
        "Whenever you ask a new question, it will find the 10 most relevant pieces of training data and use it as part of the LLM prompt to generate the SQL."
      ]
    },
    {
      "id": "edb6679e-a102-5efc-b890-81babca8f500",
      "cell_type": "code",
      "execution_count": null,
      "metadata": {
        "id": "edb6679e-a102-5efc-b890-81babca8f500"
      },
      "outputs": [],
      "source": [
        "vn.ask(question=...)"
      ]
    },
    {
      "id": "8c49dd68-3bc6-5098-93f1-2d4d8617badb",
      "cell_type": "markdown",
      "metadata": {
        "id": "8c49dd68-3bc6-5098-93f1-2d4d8617badb"
      },
      "source": [
        "## Launch the User Interface\n",
        "![vanna-flask](https://vanna.ai/blog/img/vanna-flask.gif)"
      ]
    },
    {
      "id": "b87d140b-ef56-5795-b489-46bb11d01459",
      "cell_type": "code",
      "execution_count": null,
      "metadata": {
        "id": "b87d140b-ef56-5795-b489-46bb11d01459"
      },
      "outputs": [],
      "source": [
        "from vanna.flask import VannaFlaskApp\n",
        "app = VannaFlaskApp(vn)\n",
        "app.run()"
      ]
    },
    {
      "id": "29793859-c3c8-50da-994a-c8f6348d6730",
      "cell_type": "markdown",
      "metadata": {
        "id": "29793859-c3c8-50da-994a-c8f6348d6730"
      },
      "source": [
        "## Next Steps\n",
        "Using Vanna via Jupyter notebooks is great for getting started but check out additional customizable interfaces like the\n",
        "- [Streamlit app](https://github.com/vanna-ai/vanna-streamlit)\n",
        "- [Flask app](https://github.com/vanna-ai/vanna-flask)\n",
        "- [Slackbot](https://github.com/vanna-ai/vanna-slack)\n"
      ]
    }
  ],
  "metadata": {
    "kernelspec": {
      "display_name": "Python 3",
      "language": "python",
      "name": "python3"
    },
    "language_info": {
      "codemirror_mode": {
        "name": "ipython",
        "version": 3
      },
      "file_extension": ".py",
      "mimetype": "text/x-python",
      "name": "python",
      "nbconvert_exporter": "python",
      "pygments_lexer": "ipython3",
      "version": "3.8.5"
    },
    "colab": {
      "provenance": []
    }
  },
  "nbformat": 4,
  "nbformat_minor": 5
}